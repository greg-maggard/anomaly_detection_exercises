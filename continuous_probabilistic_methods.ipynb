{
 "cells": [
  {
   "cell_type": "code",
   "execution_count": 71,
   "id": "59dc772d",
   "metadata": {},
   "outputs": [],
   "source": [
    "import pandas as pd\n",
    "import numpy as np\n",
    "import matplotlib.pyplot as plt\n",
    "import seaborn as sns"
   ]
  },
  {
   "cell_type": "code",
   "execution_count": 2,
   "id": "b2e617d6",
   "metadata": {},
   "outputs": [],
   "source": [
    "df = pd.read_csv('lemonade.csv')"
   ]
  },
  {
   "cell_type": "markdown",
   "id": "91d3368b",
   "metadata": {},
   "source": [
    "# Acquiring Data:"
   ]
  },
  {
   "cell_type": "code",
   "execution_count": 3,
   "id": "19beefc9",
   "metadata": {
    "scrolled": false
   },
   "outputs": [
    {
     "data": {
      "text/html": [
       "<div>\n",
       "<style scoped>\n",
       "    .dataframe tbody tr th:only-of-type {\n",
       "        vertical-align: middle;\n",
       "    }\n",
       "\n",
       "    .dataframe tbody tr th {\n",
       "        vertical-align: top;\n",
       "    }\n",
       "\n",
       "    .dataframe thead th {\n",
       "        text-align: right;\n",
       "    }\n",
       "</style>\n",
       "<table border=\"1\" class=\"dataframe\">\n",
       "  <thead>\n",
       "    <tr style=\"text-align: right;\">\n",
       "      <th></th>\n",
       "      <th>Date</th>\n",
       "      <th>Day</th>\n",
       "      <th>Temperature</th>\n",
       "      <th>Rainfall</th>\n",
       "      <th>Flyers</th>\n",
       "      <th>Price</th>\n",
       "      <th>Sales</th>\n",
       "    </tr>\n",
       "  </thead>\n",
       "  <tbody>\n",
       "    <tr>\n",
       "      <th>283</th>\n",
       "      <td>10/11/17</td>\n",
       "      <td>Wednesday</td>\n",
       "      <td>61.5</td>\n",
       "      <td>0.77</td>\n",
       "      <td>47</td>\n",
       "      <td>0.5</td>\n",
       "      <td>25</td>\n",
       "    </tr>\n",
       "    <tr>\n",
       "      <th>354</th>\n",
       "      <td>12/21/17</td>\n",
       "      <td>Thursday</td>\n",
       "      <td>40.5</td>\n",
       "      <td>1.33</td>\n",
       "      <td>23</td>\n",
       "      <td>0.5</td>\n",
       "      <td>15</td>\n",
       "    </tr>\n",
       "    <tr>\n",
       "      <th>96</th>\n",
       "      <td>4/7/17</td>\n",
       "      <td>Friday</td>\n",
       "      <td>59.8</td>\n",
       "      <td>0.74</td>\n",
       "      <td>44</td>\n",
       "      <td>0.5</td>\n",
       "      <td>26</td>\n",
       "    </tr>\n",
       "  </tbody>\n",
       "</table>\n",
       "</div>"
      ],
      "text/plain": [
       "         Date        Day  Temperature  Rainfall  Flyers  Price  Sales\n",
       "283  10/11/17  Wednesday         61.5      0.77      47    0.5     25\n",
       "354  12/21/17   Thursday         40.5      1.33      23    0.5     15\n",
       "96     4/7/17     Friday         59.8      0.74      44    0.5     26"
      ]
     },
     "execution_count": 3,
     "metadata": {},
     "output_type": "execute_result"
    }
   ],
   "source": [
    "df.sample(3)"
   ]
  },
  {
   "cell_type": "markdown",
   "id": "3d305d77",
   "metadata": {},
   "source": [
    "# Visualization:"
   ]
  },
  {
   "cell_type": "code",
   "execution_count": 4,
   "id": "dbc99be1",
   "metadata": {},
   "outputs": [
    {
     "data": {
      "text/plain": [
       "<AxesSubplot:xlabel='Date', ylabel='Sales'>"
      ]
     },
     "execution_count": 4,
     "metadata": {},
     "output_type": "execute_result"
    },
    {
     "data": {
      "image/png": "[encoded data removed]",
      "text/plain": [
       "<Figure size 432x288 with 1 Axes>"
      ]
     },
     "metadata": {
      "needs_background": "light"
     },
     "output_type": "display_data"
    }
   ],
   "source": [
    "#Plotting Sales by Date:\n",
    "sns.barplot(data=df, x = 'Date', y = 'Sales')"
   ]
  },
  {
   "cell_type": "markdown",
   "id": "fb792bde",
   "metadata": {},
   "source": [
    "It appears that there is clearly some kind of anomaly toward the middle of the year."
   ]
  },
  {
   "cell_type": "code",
   "execution_count": 5,
   "id": "b4a62427",
   "metadata": {},
   "outputs": [
    {
     "data": {
      "text/plain": [
       "<AxesSubplot:xlabel='Temperature', ylabel='Sales'>"
      ]
     },
     "execution_count": 5,
     "metadata": {},
     "output_type": "execute_result"
    },
    {
     "data": {
      "image/png": "[encoded data removed]",
      "text/plain": [
       "<Figure size 432x288 with 1 Axes>"
      ]
     },
     "metadata": {
      "needs_background": "light"
     },
     "output_type": "display_data"
    }
   ],
   "source": [
    "#Plotting Sales as a function of temperature:\n",
    "sns.scatterplot(data = df, x = 'Temperature', y = 'Sales')"
   ]
  },
  {
   "cell_type": "markdown",
   "id": "b1073cc1",
   "metadata": {},
   "source": [
    "There are definitely anomalies in terms of temperature, too. One day shows a temperature of 225 degrees?"
   ]
  },
  {
   "cell_type": "code",
   "execution_count": 6,
   "id": "da7025dd",
   "metadata": {},
   "outputs": [
    {
     "data": {
      "text/plain": [
       "<AxesSubplot:xlabel='Date', ylabel='Temperature'>"
      ]
     },
     "execution_count": 6,
     "metadata": {},
     "output_type": "execute_result"
    },
    {
     "data": {
      "image/png": "[encoded data removed]",
      "text/plain": [
       "<Figure size 432x288 with 1 Axes>"
      ]
     },
     "metadata": {
      "needs_background": "light"
     },
     "output_type": "display_data"
    }
   ],
   "source": [
    "#Plotting Temperature with Date:\n",
    "sns.barplot(data = df, x = 'Date', y = 'Temperature')"
   ]
  },
  {
   "cell_type": "markdown",
   "id": "73e06a29",
   "metadata": {},
   "source": [
    "The anomalous temperature reading can be seen here again, and it appears that it occurs sometime early in the year, when temperatures are lower on average. "
   ]
  },
  {
   "cell_type": "markdown",
   "id": "d4163b08",
   "metadata": {},
   "source": [
    "# Exercises:"
   ]
  },
  {
   "cell_type": "markdown",
   "id": "e207d87e",
   "metadata": {},
   "source": [
    "#### Define a function named get_lower_and_upper_bounds that has two arguments. The first argument is a pandas Series. The second argument is the multiplier, which should have a default argument of 1.5."
   ]
  },
  {
   "cell_type": "code",
   "execution_count": 7,
   "id": "e8f3502f",
   "metadata": {},
   "outputs": [],
   "source": [
    "def get_lower_and_upper_bounds(series, multiplier = 1.5):\n",
    "    # Defining values for quantiles:\n",
    "    qnt1 = df.quantile(.25)\n",
    "    qnt3 = df.quantile(.75)\n",
    "    #Calculating the IQR:\n",
    "    iqr = qnt3 - qnt1\n",
    "    #Defining the lower and upper bounds:\n",
    "    upper = qnt3 + (iqr * multiplier)\n",
    "    lower = qnt1 - (iqr * multiplier)\n",
    "    return upper, lower"
   ]
  },
  {
   "cell_type": "markdown",
   "id": "e4855637",
   "metadata": {},
   "source": [
    "## 1. Using lemonade.csv dataset and focusing on continuous variables:"
   ]
  },
  {
   "cell_type": "markdown",
   "id": "131d2eaf",
   "metadata": {},
   "source": [
    "### a. Use the IQR Range Rule and the upper and lower bounds to identify the lower outliers of each column of lemonade.csv, using the multiplier of 1.5. Do these lower outliers make sense? Which outliers should be kept?"
   ]
  },
  {
   "cell_type": "code",
   "execution_count": 8,
   "id": "0652089f",
   "metadata": {},
   "outputs": [
    {
     "data": {
      "text/plain": [
       "['Date', 'Day', 'Temperature', 'Rainfall', 'Flyers', 'Price', 'Sales']"
      ]
     },
     "execution_count": 8,
     "metadata": {},
     "output_type": "execute_result"
    }
   ],
   "source": [
    "cols = df.columns.to_list()\n",
    "cols"
   ]
  },
  {
   "cell_type": "code",
   "execution_count": 10,
   "id": "3930f781",
   "metadata": {},
   "outputs": [
    {
     "data": {
      "text/html": [
       "<div>\n",
       "<style scoped>\n",
       "    .dataframe tbody tr th:only-of-type {\n",
       "        vertical-align: middle;\n",
       "    }\n",
       "\n",
       "    .dataframe tbody tr th {\n",
       "        vertical-align: top;\n",
       "    }\n",
       "\n",
       "    .dataframe thead th {\n",
       "        text-align: right;\n",
       "    }\n",
       "</style>\n",
       "<table border=\"1\" class=\"dataframe\">\n",
       "  <thead>\n",
       "    <tr style=\"text-align: right;\">\n",
       "      <th></th>\n",
       "      <th>Temperature</th>\n",
       "      <th>Rainfall</th>\n",
       "      <th>Flyers</th>\n",
       "      <th>Price</th>\n",
       "      <th>Sales</th>\n",
       "    </tr>\n",
       "  </thead>\n",
       "  <tbody>\n",
       "    <tr>\n",
       "      <th>low_bound</th>\n",
       "      <td>16.7</td>\n",
       "      <td>0.26</td>\n",
       "      <td>4.0</td>\n",
       "      <td>0.5</td>\n",
       "      <td>5.0</td>\n",
       "    </tr>\n",
       "  </tbody>\n",
       "</table>\n",
       "</div>"
      ],
      "text/plain": [
       "           Temperature  Rainfall  Flyers  Price  Sales\n",
       "low_bound         16.7      0.26     4.0    0.5    5.0"
      ]
     },
     "execution_count": 10,
     "metadata": {},
     "output_type": "execute_result"
    }
   ],
   "source": [
    "#Creating empty DataFrame to store upper and lower bound values:\n",
    "lower_bounds = pd.DataFrame()\n",
    "#Creating list of original columns that I can iterate through:\n",
    "for i in cols:\n",
    "    #Iterating through the columns to get the upper and lower bound for each:\n",
    "    lo_bnd = get_lower_and_upper_bounds(i)\n",
    "    #Adding values to dataframe for each column of the original dataframe:\n",
    "    lower_bounds['low_bound'] = lo_bnd[1]\n",
    "\n",
    "#Transposing output dataframe to make accessing bound values easier:\n",
    "lower_bounds = lower_bounds.T \n",
    "lower_bounds"
   ]
  },
  {
   "cell_type": "code",
   "execution_count": 11,
   "id": "971398ea",
   "metadata": {},
   "outputs": [
    {
     "data": {
      "text/html": [
       "<div>\n",
       "<style scoped>\n",
       "    .dataframe tbody tr th:only-of-type {\n",
       "        vertical-align: middle;\n",
       "    }\n",
       "\n",
       "    .dataframe tbody tr th {\n",
       "        vertical-align: top;\n",
       "    }\n",
       "\n",
       "    .dataframe thead th {\n",
       "        text-align: right;\n",
       "    }\n",
       "</style>\n",
       "<table border=\"1\" class=\"dataframe\">\n",
       "  <thead>\n",
       "    <tr style=\"text-align: right;\">\n",
       "      <th></th>\n",
       "      <th>Date</th>\n",
       "      <th>Day</th>\n",
       "      <th>Temperature</th>\n",
       "      <th>Rainfall</th>\n",
       "      <th>Flyers</th>\n",
       "      <th>Price</th>\n",
       "      <th>Sales</th>\n",
       "    </tr>\n",
       "  </thead>\n",
       "  <tbody>\n",
       "    <tr>\n",
       "      <th>0</th>\n",
       "      <td>1/1/17</td>\n",
       "      <td>Sunday</td>\n",
       "      <td>27.0</td>\n",
       "      <td>2.00</td>\n",
       "      <td>15</td>\n",
       "      <td>0.5</td>\n",
       "      <td>10</td>\n",
       "    </tr>\n",
       "    <tr>\n",
       "      <th>1</th>\n",
       "      <td>1/2/17</td>\n",
       "      <td>Monday</td>\n",
       "      <td>28.9</td>\n",
       "      <td>1.33</td>\n",
       "      <td>15</td>\n",
       "      <td>0.5</td>\n",
       "      <td>13</td>\n",
       "    </tr>\n",
       "    <tr>\n",
       "      <th>2</th>\n",
       "      <td>1/3/17</td>\n",
       "      <td>Tuesday</td>\n",
       "      <td>34.5</td>\n",
       "      <td>1.33</td>\n",
       "      <td>27</td>\n",
       "      <td>0.5</td>\n",
       "      <td>15</td>\n",
       "    </tr>\n",
       "    <tr>\n",
       "      <th>3</th>\n",
       "      <td>1/4/17</td>\n",
       "      <td>Wednesday</td>\n",
       "      <td>44.1</td>\n",
       "      <td>1.05</td>\n",
       "      <td>28</td>\n",
       "      <td>0.5</td>\n",
       "      <td>17</td>\n",
       "    </tr>\n",
       "    <tr>\n",
       "      <th>4</th>\n",
       "      <td>1/5/17</td>\n",
       "      <td>Thursday</td>\n",
       "      <td>42.4</td>\n",
       "      <td>1.00</td>\n",
       "      <td>33</td>\n",
       "      <td>0.5</td>\n",
       "      <td>18</td>\n",
       "    </tr>\n",
       "    <tr>\n",
       "      <th>...</th>\n",
       "      <td>...</td>\n",
       "      <td>...</td>\n",
       "      <td>...</td>\n",
       "      <td>...</td>\n",
       "      <td>...</td>\n",
       "      <td>...</td>\n",
       "      <td>...</td>\n",
       "    </tr>\n",
       "    <tr>\n",
       "      <th>360</th>\n",
       "      <td>12/27/17</td>\n",
       "      <td>Wednesday</td>\n",
       "      <td>42.7</td>\n",
       "      <td>1.00</td>\n",
       "      <td>33</td>\n",
       "      <td>0.5</td>\n",
       "      <td>19</td>\n",
       "    </tr>\n",
       "    <tr>\n",
       "      <th>361</th>\n",
       "      <td>12/28/17</td>\n",
       "      <td>Thursday</td>\n",
       "      <td>37.8</td>\n",
       "      <td>1.25</td>\n",
       "      <td>32</td>\n",
       "      <td>0.5</td>\n",
       "      <td>16</td>\n",
       "    </tr>\n",
       "    <tr>\n",
       "      <th>362</th>\n",
       "      <td>12/29/17</td>\n",
       "      <td>Friday</td>\n",
       "      <td>39.5</td>\n",
       "      <td>1.25</td>\n",
       "      <td>17</td>\n",
       "      <td>0.5</td>\n",
       "      <td>15</td>\n",
       "    </tr>\n",
       "    <tr>\n",
       "      <th>363</th>\n",
       "      <td>12/30/17</td>\n",
       "      <td>Saturday</td>\n",
       "      <td>30.9</td>\n",
       "      <td>1.43</td>\n",
       "      <td>22</td>\n",
       "      <td>0.5</td>\n",
       "      <td>13</td>\n",
       "    </tr>\n",
       "    <tr>\n",
       "      <th>364</th>\n",
       "      <td>12/31/17</td>\n",
       "      <td>Sunday</td>\n",
       "      <td>15.1</td>\n",
       "      <td>2.50</td>\n",
       "      <td>9</td>\n",
       "      <td>0.5</td>\n",
       "      <td>7</td>\n",
       "    </tr>\n",
       "  </tbody>\n",
       "</table>\n",
       "<p>365 rows × 7 columns</p>\n",
       "</div>"
      ],
      "text/plain": [
       "         Date        Day  Temperature  Rainfall  Flyers  Price  Sales\n",
       "0      1/1/17     Sunday         27.0      2.00      15    0.5     10\n",
       "1      1/2/17     Monday         28.9      1.33      15    0.5     13\n",
       "2      1/3/17    Tuesday         34.5      1.33      27    0.5     15\n",
       "3      1/4/17  Wednesday         44.1      1.05      28    0.5     17\n",
       "4      1/5/17   Thursday         42.4      1.00      33    0.5     18\n",
       "..        ...        ...          ...       ...     ...    ...    ...\n",
       "360  12/27/17  Wednesday         42.7      1.00      33    0.5     19\n",
       "361  12/28/17   Thursday         37.8      1.25      32    0.5     16\n",
       "362  12/29/17     Friday         39.5      1.25      17    0.5     15\n",
       "363  12/30/17   Saturday         30.9      1.43      22    0.5     13\n",
       "364  12/31/17     Sunday         15.1      2.50       9    0.5      7\n",
       "\n",
       "[365 rows x 7 columns]"
      ]
     },
     "execution_count": 11,
     "metadata": {},
     "output_type": "execute_result"
    }
   ],
   "source": [
    "df"
   ]
  },
  {
   "cell_type": "markdown",
   "id": "f8d92940",
   "metadata": {},
   "source": [
    "Lower Bound for Temperature:\n",
    "- There is a day where the temperature of 15.1 falls below the lower bound and would thus be considered an outlier. "
   ]
  },
  {
   "cell_type": "code",
   "execution_count": 12,
   "id": "83b8cd2a",
   "metadata": {
    "scrolled": true
   },
   "outputs": [
    {
     "data": {
      "text/html": [
       "<div>\n",
       "<style scoped>\n",
       "    .dataframe tbody tr th:only-of-type {\n",
       "        vertical-align: middle;\n",
       "    }\n",
       "\n",
       "    .dataframe tbody tr th {\n",
       "        vertical-align: top;\n",
       "    }\n",
       "\n",
       "    .dataframe thead th {\n",
       "        text-align: right;\n",
       "    }\n",
       "</style>\n",
       "<table border=\"1\" class=\"dataframe\">\n",
       "  <thead>\n",
       "    <tr style=\"text-align: right;\">\n",
       "      <th></th>\n",
       "      <th>Date</th>\n",
       "      <th>Day</th>\n",
       "      <th>Temperature</th>\n",
       "      <th>Rainfall</th>\n",
       "      <th>Flyers</th>\n",
       "      <th>Price</th>\n",
       "      <th>Sales</th>\n",
       "    </tr>\n",
       "  </thead>\n",
       "  <tbody>\n",
       "    <tr>\n",
       "      <th>364</th>\n",
       "      <td>12/31/17</td>\n",
       "      <td>Sunday</td>\n",
       "      <td>15.1</td>\n",
       "      <td>2.5</td>\n",
       "      <td>9</td>\n",
       "      <td>0.5</td>\n",
       "      <td>7</td>\n",
       "    </tr>\n",
       "  </tbody>\n",
       "</table>\n",
       "</div>"
      ],
      "text/plain": [
       "         Date     Day  Temperature  Rainfall  Flyers  Price  Sales\n",
       "364  12/31/17  Sunday         15.1       2.5       9    0.5      7"
      ]
     },
     "execution_count": 12,
     "metadata": {},
     "output_type": "execute_result"
    }
   ],
   "source": [
    "temp_lower = lower_bounds.Temperature[0]\n",
    "df[df.Temperature < temp_lower]"
   ]
  },
  {
   "cell_type": "markdown",
   "id": "c85a439d",
   "metadata": {},
   "source": [
    "Lower Bound for Rainfall:\n",
    "- It doesn't appear that there are any lower bound outliers for rainfall. "
   ]
  },
  {
   "cell_type": "code",
   "execution_count": 13,
   "id": "5fc86115",
   "metadata": {},
   "outputs": [
    {
     "data": {
      "text/html": [
       "<div>\n",
       "<style scoped>\n",
       "    .dataframe tbody tr th:only-of-type {\n",
       "        vertical-align: middle;\n",
       "    }\n",
       "\n",
       "    .dataframe tbody tr th {\n",
       "        vertical-align: top;\n",
       "    }\n",
       "\n",
       "    .dataframe thead th {\n",
       "        text-align: right;\n",
       "    }\n",
       "</style>\n",
       "<table border=\"1\" class=\"dataframe\">\n",
       "  <thead>\n",
       "    <tr style=\"text-align: right;\">\n",
       "      <th></th>\n",
       "      <th>Date</th>\n",
       "      <th>Day</th>\n",
       "      <th>Temperature</th>\n",
       "      <th>Rainfall</th>\n",
       "      <th>Flyers</th>\n",
       "      <th>Price</th>\n",
       "      <th>Sales</th>\n",
       "    </tr>\n",
       "  </thead>\n",
       "  <tbody>\n",
       "  </tbody>\n",
       "</table>\n",
       "</div>"
      ],
      "text/plain": [
       "Empty DataFrame\n",
       "Columns: [Date, Day, Temperature, Rainfall, Flyers, Price, Sales]\n",
       "Index: []"
      ]
     },
     "execution_count": 13,
     "metadata": {},
     "output_type": "execute_result"
    }
   ],
   "source": [
    "rain_lower = lower_bounds.Rainfall[0]\n",
    "df[df.Rainfall < rain_lower]"
   ]
  },
  {
   "cell_type": "markdown",
   "id": "dbef470f",
   "metadata": {},
   "source": [
    "Lower Bound for Flyers:\n",
    "- It appears that there is one day that classifies as an outlier for the lower boud of flyers. "
   ]
  },
  {
   "cell_type": "code",
   "execution_count": 14,
   "id": "94226441",
   "metadata": {},
   "outputs": [
    {
     "data": {
      "text/html": [
       "<div>\n",
       "<style scoped>\n",
       "    .dataframe tbody tr th:only-of-type {\n",
       "        vertical-align: middle;\n",
       "    }\n",
       "\n",
       "    .dataframe tbody tr th {\n",
       "        vertical-align: top;\n",
       "    }\n",
       "\n",
       "    .dataframe thead th {\n",
       "        text-align: right;\n",
       "    }\n",
       "</style>\n",
       "<table border=\"1\" class=\"dataframe\">\n",
       "  <thead>\n",
       "    <tr style=\"text-align: right;\">\n",
       "      <th></th>\n",
       "      <th>Date</th>\n",
       "      <th>Day</th>\n",
       "      <th>Temperature</th>\n",
       "      <th>Rainfall</th>\n",
       "      <th>Flyers</th>\n",
       "      <th>Price</th>\n",
       "      <th>Sales</th>\n",
       "    </tr>\n",
       "  </thead>\n",
       "  <tbody>\n",
       "    <tr>\n",
       "      <th>324</th>\n",
       "      <td>11/21/17</td>\n",
       "      <td>Tuesday</td>\n",
       "      <td>47.0</td>\n",
       "      <td>0.95</td>\n",
       "      <td>-38</td>\n",
       "      <td>0.5</td>\n",
       "      <td>20</td>\n",
       "    </tr>\n",
       "  </tbody>\n",
       "</table>\n",
       "</div>"
      ],
      "text/plain": [
       "         Date      Day  Temperature  Rainfall  Flyers  Price  Sales\n",
       "324  11/21/17  Tuesday         47.0      0.95     -38    0.5     20"
      ]
     },
     "execution_count": 14,
     "metadata": {},
     "output_type": "execute_result"
    }
   ],
   "source": [
    "flyers_lower = lower_bounds.Flyers[0]\n",
    "df[df.Flyers < flyers_lower]"
   ]
  },
  {
   "cell_type": "markdown",
   "id": "e0353db8",
   "metadata": {},
   "source": [
    "Lower Bound for Price:\n",
    "- It doesn't appear that there are any outliers for the lower bound of price. "
   ]
  },
  {
   "cell_type": "code",
   "execution_count": 16,
   "id": "808b86b3",
   "metadata": {
    "scrolled": true
   },
   "outputs": [
    {
     "data": {
      "text/html": [
       "<div>\n",
       "<style scoped>\n",
       "    .dataframe tbody tr th:only-of-type {\n",
       "        vertical-align: middle;\n",
       "    }\n",
       "\n",
       "    .dataframe tbody tr th {\n",
       "        vertical-align: top;\n",
       "    }\n",
       "\n",
       "    .dataframe thead th {\n",
       "        text-align: right;\n",
       "    }\n",
       "</style>\n",
       "<table border=\"1\" class=\"dataframe\">\n",
       "  <thead>\n",
       "    <tr style=\"text-align: right;\">\n",
       "      <th></th>\n",
       "      <th>Date</th>\n",
       "      <th>Day</th>\n",
       "      <th>Temperature</th>\n",
       "      <th>Rainfall</th>\n",
       "      <th>Flyers</th>\n",
       "      <th>Price</th>\n",
       "      <th>Sales</th>\n",
       "    </tr>\n",
       "  </thead>\n",
       "  <tbody>\n",
       "  </tbody>\n",
       "</table>\n",
       "</div>"
      ],
      "text/plain": [
       "Empty DataFrame\n",
       "Columns: [Date, Day, Temperature, Rainfall, Flyers, Price, Sales]\n",
       "Index: []"
      ]
     },
     "execution_count": 16,
     "metadata": {},
     "output_type": "execute_result"
    }
   ],
   "source": [
    "price_lower = lower_bounds.Price[0]\n",
    "df[df.Price < price_lower]"
   ]
  },
  {
   "cell_type": "markdown",
   "id": "85d7f117",
   "metadata": {},
   "source": [
    "Lower Bound for Sales:\n",
    "- It doesn't appear that there are any outliers for the lower bound of Sales."
   ]
  },
  {
   "cell_type": "code",
   "execution_count": 17,
   "id": "a7bd93f9",
   "metadata": {},
   "outputs": [
    {
     "data": {
      "text/html": [
       "<div>\n",
       "<style scoped>\n",
       "    .dataframe tbody tr th:only-of-type {\n",
       "        vertical-align: middle;\n",
       "    }\n",
       "\n",
       "    .dataframe tbody tr th {\n",
       "        vertical-align: top;\n",
       "    }\n",
       "\n",
       "    .dataframe thead th {\n",
       "        text-align: right;\n",
       "    }\n",
       "</style>\n",
       "<table border=\"1\" class=\"dataframe\">\n",
       "  <thead>\n",
       "    <tr style=\"text-align: right;\">\n",
       "      <th></th>\n",
       "      <th>Date</th>\n",
       "      <th>Day</th>\n",
       "      <th>Temperature</th>\n",
       "      <th>Rainfall</th>\n",
       "      <th>Flyers</th>\n",
       "      <th>Price</th>\n",
       "      <th>Sales</th>\n",
       "    </tr>\n",
       "  </thead>\n",
       "  <tbody>\n",
       "  </tbody>\n",
       "</table>\n",
       "</div>"
      ],
      "text/plain": [
       "Empty DataFrame\n",
       "Columns: [Date, Day, Temperature, Rainfall, Flyers, Price, Sales]\n",
       "Index: []"
      ]
     },
     "execution_count": 17,
     "metadata": {},
     "output_type": "execute_result"
    }
   ],
   "source": [
    "sales_lower = lower_bounds.Sales[0]\n",
    "df[df.Sales < sales_lower]"
   ]
  },
  {
   "cell_type": "markdown",
   "id": "452b3323",
   "metadata": {},
   "source": [
    "### b. Use the IQR Range Rule and the upper and upper bounds to identify the upper outliers of each column of lemonade.csv, using the multiplier of 1.5. Do these upper outliers make sense? Which outliers should be kept?"
   ]
  },
  {
   "cell_type": "code",
   "execution_count": 20,
   "id": "8dc82c90",
   "metadata": {
    "scrolled": true
   },
   "outputs": [
    {
     "data": {
      "text/html": [
       "<div>\n",
       "<style scoped>\n",
       "    .dataframe tbody tr th:only-of-type {\n",
       "        vertical-align: middle;\n",
       "    }\n",
       "\n",
       "    .dataframe tbody tr th {\n",
       "        vertical-align: top;\n",
       "    }\n",
       "\n",
       "    .dataframe thead th {\n",
       "        text-align: right;\n",
       "    }\n",
       "</style>\n",
       "<table border=\"1\" class=\"dataframe\">\n",
       "  <thead>\n",
       "    <tr style=\"text-align: right;\">\n",
       "      <th></th>\n",
       "      <th>Temperature</th>\n",
       "      <th>Rainfall</th>\n",
       "      <th>Flyers</th>\n",
       "      <th>Price</th>\n",
       "      <th>Sales</th>\n",
       "    </tr>\n",
       "  </thead>\n",
       "  <tbody>\n",
       "    <tr>\n",
       "      <th>up_bound</th>\n",
       "      <td>104.7</td>\n",
       "      <td>1.3</td>\n",
       "      <td>76.0</td>\n",
       "      <td>0.5</td>\n",
       "      <td>45.0</td>\n",
       "    </tr>\n",
       "  </tbody>\n",
       "</table>\n",
       "</div>"
      ],
      "text/plain": [
       "          Temperature  Rainfall  Flyers  Price  Sales\n",
       "up_bound        104.7       1.3    76.0    0.5   45.0"
      ]
     },
     "execution_count": 20,
     "metadata": {},
     "output_type": "execute_result"
    }
   ],
   "source": [
    "#Creating empty DataFrame to store upper and lower bound values:\n",
    "upper_bounds = pd.DataFrame()\n",
    "#Creating list of original columns that I can iterate through:\n",
    "for i in cols:\n",
    "    #Iterating through the columns to get the upper and lower bound for each:\n",
    "    bounds = get_lower_and_upper_bounds(i)\n",
    "    #Adding values to dataframe for each column of the original dataframe:\n",
    "    upper_bounds['up_bound'] = bounds[0]\n",
    "\n",
    "#Transposing output dataframe to make accessing bound values easier:\n",
    "upper_bounds = upper_bounds.T \n",
    "upper_bounds"
   ]
  },
  {
   "cell_type": "markdown",
   "id": "d3ba1053",
   "metadata": {},
   "source": [
    "Upper Bound for Temperature:\n",
    "- It appears that there is one outlier for the upper bound in Temperature."
   ]
  },
  {
   "cell_type": "code",
   "execution_count": 21,
   "id": "19ecd48e",
   "metadata": {},
   "outputs": [
    {
     "data": {
      "text/html": [
       "<div>\n",
       "<style scoped>\n",
       "    .dataframe tbody tr th:only-of-type {\n",
       "        vertical-align: middle;\n",
       "    }\n",
       "\n",
       "    .dataframe tbody tr th {\n",
       "        vertical-align: top;\n",
       "    }\n",
       "\n",
       "    .dataframe thead th {\n",
       "        text-align: right;\n",
       "    }\n",
       "</style>\n",
       "<table border=\"1\" class=\"dataframe\">\n",
       "  <thead>\n",
       "    <tr style=\"text-align: right;\">\n",
       "      <th></th>\n",
       "      <th>Date</th>\n",
       "      <th>Day</th>\n",
       "      <th>Temperature</th>\n",
       "      <th>Rainfall</th>\n",
       "      <th>Flyers</th>\n",
       "      <th>Price</th>\n",
       "      <th>Sales</th>\n",
       "    </tr>\n",
       "  </thead>\n",
       "  <tbody>\n",
       "    <tr>\n",
       "      <th>41</th>\n",
       "      <td>2/11/17</td>\n",
       "      <td>Saturday</td>\n",
       "      <td>212.0</td>\n",
       "      <td>0.91</td>\n",
       "      <td>35</td>\n",
       "      <td>0.5</td>\n",
       "      <td>21</td>\n",
       "    </tr>\n",
       "  </tbody>\n",
       "</table>\n",
       "</div>"
      ],
      "text/plain": [
       "       Date       Day  Temperature  Rainfall  Flyers  Price  Sales\n",
       "41  2/11/17  Saturday        212.0      0.91      35    0.5     21"
      ]
     },
     "execution_count": 21,
     "metadata": {},
     "output_type": "execute_result"
    }
   ],
   "source": [
    "temp_upper = upper_bounds.Temperature[0]\n",
    "df[df.Temperature > temp_upper]"
   ]
  },
  {
   "cell_type": "markdown",
   "id": "90e510b3",
   "metadata": {},
   "source": [
    "Upper Bound for Rainfall:\n",
    " - It appears that there are 28 days in which rainfall exceeds the upper bound. However, these shouldn't necessarily be thrown out, because they all happen in January and December, meaning those months may just be exceptionally rainy, but not inherently anomalous."
   ]
  },
  {
   "cell_type": "code",
   "execution_count": 24,
   "id": "01fe9c61",
   "metadata": {},
   "outputs": [
    {
     "data": {
      "text/html": [
       "<div>\n",
       "<style scoped>\n",
       "    .dataframe tbody tr th:only-of-type {\n",
       "        vertical-align: middle;\n",
       "    }\n",
       "\n",
       "    .dataframe tbody tr th {\n",
       "        vertical-align: top;\n",
       "    }\n",
       "\n",
       "    .dataframe thead th {\n",
       "        text-align: right;\n",
       "    }\n",
       "</style>\n",
       "<table border=\"1\" class=\"dataframe\">\n",
       "  <thead>\n",
       "    <tr style=\"text-align: right;\">\n",
       "      <th></th>\n",
       "      <th>Date</th>\n",
       "      <th>Day</th>\n",
       "      <th>Temperature</th>\n",
       "      <th>Rainfall</th>\n",
       "      <th>Flyers</th>\n",
       "      <th>Price</th>\n",
       "      <th>Sales</th>\n",
       "    </tr>\n",
       "  </thead>\n",
       "  <tbody>\n",
       "    <tr>\n",
       "      <th>0</th>\n",
       "      <td>1/1/17</td>\n",
       "      <td>Sunday</td>\n",
       "      <td>27.0</td>\n",
       "      <td>2.00</td>\n",
       "      <td>15</td>\n",
       "      <td>0.5</td>\n",
       "      <td>10</td>\n",
       "    </tr>\n",
       "    <tr>\n",
       "      <th>1</th>\n",
       "      <td>1/2/17</td>\n",
       "      <td>Monday</td>\n",
       "      <td>28.9</td>\n",
       "      <td>1.33</td>\n",
       "      <td>15</td>\n",
       "      <td>0.5</td>\n",
       "      <td>13</td>\n",
       "    </tr>\n",
       "    <tr>\n",
       "      <th>2</th>\n",
       "      <td>1/3/17</td>\n",
       "      <td>Tuesday</td>\n",
       "      <td>34.5</td>\n",
       "      <td>1.33</td>\n",
       "      <td>27</td>\n",
       "      <td>0.5</td>\n",
       "      <td>15</td>\n",
       "    </tr>\n",
       "    <tr>\n",
       "      <th>5</th>\n",
       "      <td>1/6/17</td>\n",
       "      <td>Friday</td>\n",
       "      <td>25.3</td>\n",
       "      <td>1.54</td>\n",
       "      <td>23</td>\n",
       "      <td>0.5</td>\n",
       "      <td>11</td>\n",
       "    </tr>\n",
       "    <tr>\n",
       "      <th>6</th>\n",
       "      <td>1/7/17</td>\n",
       "      <td>Saturday</td>\n",
       "      <td>32.9</td>\n",
       "      <td>1.54</td>\n",
       "      <td>19</td>\n",
       "      <td>0.5</td>\n",
       "      <td>13</td>\n",
       "    </tr>\n",
       "    <tr>\n",
       "      <th>10</th>\n",
       "      <td>1/11/17</td>\n",
       "      <td>Wednesday</td>\n",
       "      <td>32.6</td>\n",
       "      <td>1.54</td>\n",
       "      <td>23</td>\n",
       "      <td>0.5</td>\n",
       "      <td>12</td>\n",
       "    </tr>\n",
       "    <tr>\n",
       "      <th>11</th>\n",
       "      <td>1/12/17</td>\n",
       "      <td>Thursday</td>\n",
       "      <td>38.2</td>\n",
       "      <td>1.33</td>\n",
       "      <td>16</td>\n",
       "      <td>0.5</td>\n",
       "      <td>14</td>\n",
       "    </tr>\n",
       "    <tr>\n",
       "      <th>12</th>\n",
       "      <td>1/13/17</td>\n",
       "      <td>Friday</td>\n",
       "      <td>37.5</td>\n",
       "      <td>1.33</td>\n",
       "      <td>19</td>\n",
       "      <td>0.5</td>\n",
       "      <td>15</td>\n",
       "    </tr>\n",
       "    <tr>\n",
       "      <th>15</th>\n",
       "      <td>1/16/17</td>\n",
       "      <td>Monday</td>\n",
       "      <td>30.6</td>\n",
       "      <td>1.67</td>\n",
       "      <td>24</td>\n",
       "      <td>0.5</td>\n",
       "      <td>12</td>\n",
       "    </tr>\n",
       "    <tr>\n",
       "      <th>16</th>\n",
       "      <td>1/17/17</td>\n",
       "      <td>Tuesday</td>\n",
       "      <td>32.2</td>\n",
       "      <td>1.43</td>\n",
       "      <td>26</td>\n",
       "      <td>0.5</td>\n",
       "      <td>14</td>\n",
       "    </tr>\n",
       "    <tr>\n",
       "      <th>19</th>\n",
       "      <td>1/20/17</td>\n",
       "      <td>Friday</td>\n",
       "      <td>31.6</td>\n",
       "      <td>1.43</td>\n",
       "      <td>20</td>\n",
       "      <td>0.5</td>\n",
       "      <td>12</td>\n",
       "    </tr>\n",
       "    <tr>\n",
       "      <th>23</th>\n",
       "      <td>1/24/17</td>\n",
       "      <td>Tuesday</td>\n",
       "      <td>28.6</td>\n",
       "      <td>1.54</td>\n",
       "      <td>20</td>\n",
       "      <td>0.5</td>\n",
       "      <td>12</td>\n",
       "    </tr>\n",
       "    <tr>\n",
       "      <th>27</th>\n",
       "      <td>1/28/17</td>\n",
       "      <td>Saturday</td>\n",
       "      <td>34.9</td>\n",
       "      <td>1.33</td>\n",
       "      <td>15</td>\n",
       "      <td>0.5</td>\n",
       "      <td>13</td>\n",
       "    </tr>\n",
       "    <tr>\n",
       "      <th>28</th>\n",
       "      <td>1/29/17</td>\n",
       "      <td>Sunday</td>\n",
       "      <td>35.2</td>\n",
       "      <td>1.33</td>\n",
       "      <td>27</td>\n",
       "      <td>0.5</td>\n",
       "      <td>14</td>\n",
       "    </tr>\n",
       "    <tr>\n",
       "      <th>337</th>\n",
       "      <td>12/4/17</td>\n",
       "      <td>Monday</td>\n",
       "      <td>34.9</td>\n",
       "      <td>1.54</td>\n",
       "      <td>16</td>\n",
       "      <td>0.5</td>\n",
       "      <td>13</td>\n",
       "    </tr>\n",
       "    <tr>\n",
       "      <th>338</th>\n",
       "      <td>12/5/17</td>\n",
       "      <td>Tuesday</td>\n",
       "      <td>22.0</td>\n",
       "      <td>1.82</td>\n",
       "      <td>11</td>\n",
       "      <td>0.5</td>\n",
       "      <td>10</td>\n",
       "    </tr>\n",
       "    <tr>\n",
       "      <th>342</th>\n",
       "      <td>12/9/17</td>\n",
       "      <td>Saturday</td>\n",
       "      <td>31.2</td>\n",
       "      <td>1.43</td>\n",
       "      <td>19</td>\n",
       "      <td>0.5</td>\n",
       "      <td>14</td>\n",
       "    </tr>\n",
       "    <tr>\n",
       "      <th>343</th>\n",
       "      <td>12/10/17</td>\n",
       "      <td>Sunday</td>\n",
       "      <td>31.3</td>\n",
       "      <td>1.82</td>\n",
       "      <td>15</td>\n",
       "      <td>0.5</td>\n",
       "      <td>11</td>\n",
       "    </tr>\n",
       "    <tr>\n",
       "      <th>345</th>\n",
       "      <td>12/12/17</td>\n",
       "      <td>Tuesday</td>\n",
       "      <td>33.5</td>\n",
       "      <td>1.33</td>\n",
       "      <td>22</td>\n",
       "      <td>0.5</td>\n",
       "      <td>15</td>\n",
       "    </tr>\n",
       "    <tr>\n",
       "      <th>346</th>\n",
       "      <td>12/13/17</td>\n",
       "      <td>Wednesday</td>\n",
       "      <td>32.2</td>\n",
       "      <td>1.43</td>\n",
       "      <td>26</td>\n",
       "      <td>0.5</td>\n",
       "      <td>14</td>\n",
       "    </tr>\n",
       "    <tr>\n",
       "      <th>347</th>\n",
       "      <td>12/14/17</td>\n",
       "      <td>Thursday</td>\n",
       "      <td>31.9</td>\n",
       "      <td>1.54</td>\n",
       "      <td>24</td>\n",
       "      <td>0.5</td>\n",
       "      <td>13</td>\n",
       "    </tr>\n",
       "    <tr>\n",
       "      <th>350</th>\n",
       "      <td>12/17/17</td>\n",
       "      <td>Sunday</td>\n",
       "      <td>32.2</td>\n",
       "      <td>1.33</td>\n",
       "      <td>16</td>\n",
       "      <td>0.5</td>\n",
       "      <td>14</td>\n",
       "    </tr>\n",
       "    <tr>\n",
       "      <th>351</th>\n",
       "      <td>12/18/17</td>\n",
       "      <td>Monday</td>\n",
       "      <td>30.9</td>\n",
       "      <td>1.43</td>\n",
       "      <td>27</td>\n",
       "      <td>0.5</td>\n",
       "      <td>13</td>\n",
       "    </tr>\n",
       "    <tr>\n",
       "      <th>354</th>\n",
       "      <td>12/21/17</td>\n",
       "      <td>Thursday</td>\n",
       "      <td>40.5</td>\n",
       "      <td>1.33</td>\n",
       "      <td>23</td>\n",
       "      <td>0.5</td>\n",
       "      <td>15</td>\n",
       "    </tr>\n",
       "    <tr>\n",
       "      <th>355</th>\n",
       "      <td>12/22/17</td>\n",
       "      <td>Friday</td>\n",
       "      <td>30.9</td>\n",
       "      <td>1.54</td>\n",
       "      <td>17</td>\n",
       "      <td>0.5</td>\n",
       "      <td>13</td>\n",
       "    </tr>\n",
       "    <tr>\n",
       "      <th>359</th>\n",
       "      <td>12/26/17</td>\n",
       "      <td>Tuesday</td>\n",
       "      <td>28.9</td>\n",
       "      <td>1.43</td>\n",
       "      <td>23</td>\n",
       "      <td>0.5</td>\n",
       "      <td>13</td>\n",
       "    </tr>\n",
       "    <tr>\n",
       "      <th>363</th>\n",
       "      <td>12/30/17</td>\n",
       "      <td>Saturday</td>\n",
       "      <td>30.9</td>\n",
       "      <td>1.43</td>\n",
       "      <td>22</td>\n",
       "      <td>0.5</td>\n",
       "      <td>13</td>\n",
       "    </tr>\n",
       "    <tr>\n",
       "      <th>364</th>\n",
       "      <td>12/31/17</td>\n",
       "      <td>Sunday</td>\n",
       "      <td>15.1</td>\n",
       "      <td>2.50</td>\n",
       "      <td>9</td>\n",
       "      <td>0.5</td>\n",
       "      <td>7</td>\n",
       "    </tr>\n",
       "  </tbody>\n",
       "</table>\n",
       "</div>"
      ],
      "text/plain": [
       "         Date        Day  Temperature  Rainfall  Flyers  Price  Sales\n",
       "0      1/1/17     Sunday         27.0      2.00      15    0.5     10\n",
       "1      1/2/17     Monday         28.9      1.33      15    0.5     13\n",
       "2      1/3/17    Tuesday         34.5      1.33      27    0.5     15\n",
       "5      1/6/17     Friday         25.3      1.54      23    0.5     11\n",
       "6      1/7/17   Saturday         32.9      1.54      19    0.5     13\n",
       "10    1/11/17  Wednesday         32.6      1.54      23    0.5     12\n",
       "11    1/12/17   Thursday         38.2      1.33      16    0.5     14\n",
       "12    1/13/17     Friday         37.5      1.33      19    0.5     15\n",
       "15    1/16/17     Monday         30.6      1.67      24    0.5     12\n",
       "16    1/17/17    Tuesday         32.2      1.43      26    0.5     14\n",
       "19    1/20/17     Friday         31.6      1.43      20    0.5     12\n",
       "23    1/24/17    Tuesday         28.6      1.54      20    0.5     12\n",
       "27    1/28/17   Saturday         34.9      1.33      15    0.5     13\n",
       "28    1/29/17     Sunday         35.2      1.33      27    0.5     14\n",
       "337   12/4/17     Monday         34.9      1.54      16    0.5     13\n",
       "338   12/5/17    Tuesday         22.0      1.82      11    0.5     10\n",
       "342   12/9/17   Saturday         31.2      1.43      19    0.5     14\n",
       "343  12/10/17     Sunday         31.3      1.82      15    0.5     11\n",
       "345  12/12/17    Tuesday         33.5      1.33      22    0.5     15\n",
       "346  12/13/17  Wednesday         32.2      1.43      26    0.5     14\n",
       "347  12/14/17   Thursday         31.9      1.54      24    0.5     13\n",
       "350  12/17/17     Sunday         32.2      1.33      16    0.5     14\n",
       "351  12/18/17     Monday         30.9      1.43      27    0.5     13\n",
       "354  12/21/17   Thursday         40.5      1.33      23    0.5     15\n",
       "355  12/22/17     Friday         30.9      1.54      17    0.5     13\n",
       "359  12/26/17    Tuesday         28.9      1.43      23    0.5     13\n",
       "363  12/30/17   Saturday         30.9      1.43      22    0.5     13\n",
       "364  12/31/17     Sunday         15.1      2.50       9    0.5      7"
      ]
     },
     "execution_count": 24,
     "metadata": {},
     "output_type": "execute_result"
    }
   ],
   "source": [
    "rain_upper = upper_bounds.Rainfall[0]\n",
    "df[df.Rainfall > rain_upper]"
   ]
  },
  {
   "cell_type": "markdown",
   "id": "8c27adc5",
   "metadata": {},
   "source": [
    "Upper Bound for Flyers:\n",
    "- It appears that there are two days in which flyers exceed the uppper bound and appear to be anomalous. "
   ]
  },
  {
   "cell_type": "code",
   "execution_count": 26,
   "id": "e8e4aa82",
   "metadata": {},
   "outputs": [
    {
     "data": {
      "text/html": [
       "<div>\n",
       "<style scoped>\n",
       "    .dataframe tbody tr th:only-of-type {\n",
       "        vertical-align: middle;\n",
       "    }\n",
       "\n",
       "    .dataframe tbody tr th {\n",
       "        vertical-align: top;\n",
       "    }\n",
       "\n",
       "    .dataframe thead th {\n",
       "        text-align: right;\n",
       "    }\n",
       "</style>\n",
       "<table border=\"1\" class=\"dataframe\">\n",
       "  <thead>\n",
       "    <tr style=\"text-align: right;\">\n",
       "      <th></th>\n",
       "      <th>Date</th>\n",
       "      <th>Day</th>\n",
       "      <th>Temperature</th>\n",
       "      <th>Rainfall</th>\n",
       "      <th>Flyers</th>\n",
       "      <th>Price</th>\n",
       "      <th>Sales</th>\n",
       "    </tr>\n",
       "  </thead>\n",
       "  <tbody>\n",
       "    <tr>\n",
       "      <th>166</th>\n",
       "      <td>6/16/17</td>\n",
       "      <td>Friday</td>\n",
       "      <td>99.3</td>\n",
       "      <td>0.47</td>\n",
       "      <td>77</td>\n",
       "      <td>0.5</td>\n",
       "      <td>41</td>\n",
       "    </tr>\n",
       "    <tr>\n",
       "      <th>194</th>\n",
       "      <td>7/14/17</td>\n",
       "      <td>Friday</td>\n",
       "      <td>92.0</td>\n",
       "      <td>0.50</td>\n",
       "      <td>80</td>\n",
       "      <td>0.5</td>\n",
       "      <td>40</td>\n",
       "    </tr>\n",
       "  </tbody>\n",
       "</table>\n",
       "</div>"
      ],
      "text/plain": [
       "        Date     Day  Temperature  Rainfall  Flyers  Price  Sales\n",
       "166  6/16/17  Friday         99.3      0.47      77    0.5     41\n",
       "194  7/14/17  Friday         92.0      0.50      80    0.5     40"
      ]
     },
     "execution_count": 26,
     "metadata": {},
     "output_type": "execute_result"
    }
   ],
   "source": [
    "flyers_upper = upper_bounds.Flyers[0]\n",
    "df[df.Flyers > flyers_upper]"
   ]
  },
  {
   "cell_type": "markdown",
   "id": "56fcd704",
   "metadata": {},
   "source": [
    "Upper Bound for Price:\n",
    "- There don't appear to be any days in which price exceeds the upper bound. "
   ]
  },
  {
   "cell_type": "code",
   "execution_count": 27,
   "id": "87f788e1",
   "metadata": {},
   "outputs": [
    {
     "data": {
      "text/html": [
       "<div>\n",
       "<style scoped>\n",
       "    .dataframe tbody tr th:only-of-type {\n",
       "        vertical-align: middle;\n",
       "    }\n",
       "\n",
       "    .dataframe tbody tr th {\n",
       "        vertical-align: top;\n",
       "    }\n",
       "\n",
       "    .dataframe thead th {\n",
       "        text-align: right;\n",
       "    }\n",
       "</style>\n",
       "<table border=\"1\" class=\"dataframe\">\n",
       "  <thead>\n",
       "    <tr style=\"text-align: right;\">\n",
       "      <th></th>\n",
       "      <th>Date</th>\n",
       "      <th>Day</th>\n",
       "      <th>Temperature</th>\n",
       "      <th>Rainfall</th>\n",
       "      <th>Flyers</th>\n",
       "      <th>Price</th>\n",
       "      <th>Sales</th>\n",
       "    </tr>\n",
       "  </thead>\n",
       "  <tbody>\n",
       "  </tbody>\n",
       "</table>\n",
       "</div>"
      ],
      "text/plain": [
       "Empty DataFrame\n",
       "Columns: [Date, Day, Temperature, Rainfall, Flyers, Price, Sales]\n",
       "Index: []"
      ]
     },
     "execution_count": 27,
     "metadata": {},
     "output_type": "execute_result"
    }
   ],
   "source": [
    "price_upper = upper_bounds.Price[0]\n",
    "df[df.Price > price_upper]"
   ]
  },
  {
   "cell_type": "markdown",
   "id": "5c1966a9",
   "metadata": {},
   "source": [
    "Upper Bound for Sales:\n",
    "- There appear to be four days in which the upper bound is exceeded for sales. However, this occurs around the Fourth of July holiday, which is a time of high demand, and therefore not necessarily anomalous. "
   ]
  },
  {
   "cell_type": "code",
   "execution_count": 28,
   "id": "82dead26",
   "metadata": {},
   "outputs": [
    {
     "data": {
      "text/html": [
       "<div>\n",
       "<style scoped>\n",
       "    .dataframe tbody tr th:only-of-type {\n",
       "        vertical-align: middle;\n",
       "    }\n",
       "\n",
       "    .dataframe tbody tr th {\n",
       "        vertical-align: top;\n",
       "    }\n",
       "\n",
       "    .dataframe thead th {\n",
       "        text-align: right;\n",
       "    }\n",
       "</style>\n",
       "<table border=\"1\" class=\"dataframe\">\n",
       "  <thead>\n",
       "    <tr style=\"text-align: right;\">\n",
       "      <th></th>\n",
       "      <th>Date</th>\n",
       "      <th>Day</th>\n",
       "      <th>Temperature</th>\n",
       "      <th>Rainfall</th>\n",
       "      <th>Flyers</th>\n",
       "      <th>Price</th>\n",
       "      <th>Sales</th>\n",
       "    </tr>\n",
       "  </thead>\n",
       "  <tbody>\n",
       "    <tr>\n",
       "      <th>181</th>\n",
       "      <td>7/1/17</td>\n",
       "      <td>Saturday</td>\n",
       "      <td>102.9</td>\n",
       "      <td>0.47</td>\n",
       "      <td>59</td>\n",
       "      <td>0.5</td>\n",
       "      <td>143</td>\n",
       "    </tr>\n",
       "    <tr>\n",
       "      <th>182</th>\n",
       "      <td>7/2/17</td>\n",
       "      <td>Sunday</td>\n",
       "      <td>93.4</td>\n",
       "      <td>0.51</td>\n",
       "      <td>68</td>\n",
       "      <td>0.5</td>\n",
       "      <td>158</td>\n",
       "    </tr>\n",
       "    <tr>\n",
       "      <th>183</th>\n",
       "      <td>7/3/17</td>\n",
       "      <td>Monday</td>\n",
       "      <td>81.5</td>\n",
       "      <td>0.54</td>\n",
       "      <td>68</td>\n",
       "      <td>0.5</td>\n",
       "      <td>235</td>\n",
       "    </tr>\n",
       "    <tr>\n",
       "      <th>184</th>\n",
       "      <td>7/4/17</td>\n",
       "      <td>Tuesday</td>\n",
       "      <td>84.2</td>\n",
       "      <td>0.59</td>\n",
       "      <td>49</td>\n",
       "      <td>0.5</td>\n",
       "      <td>534</td>\n",
       "    </tr>\n",
       "  </tbody>\n",
       "</table>\n",
       "</div>"
      ],
      "text/plain": [
       "       Date       Day  Temperature  Rainfall  Flyers  Price  Sales\n",
       "181  7/1/17  Saturday        102.9      0.47      59    0.5    143\n",
       "182  7/2/17    Sunday         93.4      0.51      68    0.5    158\n",
       "183  7/3/17    Monday         81.5      0.54      68    0.5    235\n",
       "184  7/4/17   Tuesday         84.2      0.59      49    0.5    534"
      ]
     },
     "execution_count": 28,
     "metadata": {},
     "output_type": "execute_result"
    }
   ],
   "source": [
    "sales_upper = upper_bounds.Sales[0]\n",
    "df[df.Sales > sales_upper]"
   ]
  },
  {
   "cell_type": "markdown",
   "id": "72a8d565",
   "metadata": {},
   "source": [
    "### c. Using the multiplier of 3, IQR Range Rule, and the lower bounds, identify the outliers below the lower bound in each colum of lemonade.csv. Do these lower outliers make sense? Which outliers should be kept?\n",
    "\n",
    "AND\n",
    "\n",
    "### d. Using the multiplier of 3, IQR Range Rule, and the upper bounds, identify the outliers above the upper_bound in each colum of lemonade.csv. Do these upper outliers make sense? Which outliers should be kept?"
   ]
  },
  {
   "cell_type": "markdown",
   "id": "7b1bc564",
   "metadata": {},
   "source": [
    "Identifying Bounds for Multiplier of 3:"
   ]
  },
  {
   "cell_type": "code",
   "execution_count": 54,
   "id": "14c246dd",
   "metadata": {},
   "outputs": [
    {
     "data": {
      "text/html": [
       "<div>\n",
       "<style scoped>\n",
       "    .dataframe tbody tr th:only-of-type {\n",
       "        vertical-align: middle;\n",
       "    }\n",
       "\n",
       "    .dataframe tbody tr th {\n",
       "        vertical-align: top;\n",
       "    }\n",
       "\n",
       "    .dataframe thead th {\n",
       "        text-align: right;\n",
       "    }\n",
       "</style>\n",
       "<table border=\"1\" class=\"dataframe\">\n",
       "  <thead>\n",
       "    <tr style=\"text-align: right;\">\n",
       "      <th></th>\n",
       "      <th>Temperature</th>\n",
       "      <th>Rainfall</th>\n",
       "      <th>Flyers</th>\n",
       "      <th>Price</th>\n",
       "      <th>Sales</th>\n",
       "    </tr>\n",
       "  </thead>\n",
       "  <tbody>\n",
       "    <tr>\n",
       "      <th>up_bound</th>\n",
       "      <td>137.7</td>\n",
       "      <td>1.69</td>\n",
       "      <td>103.0</td>\n",
       "      <td>0.5</td>\n",
       "      <td>60.0</td>\n",
       "    </tr>\n",
       "    <tr>\n",
       "      <th>lower_bound</th>\n",
       "      <td>-16.3</td>\n",
       "      <td>-0.13</td>\n",
       "      <td>-23.0</td>\n",
       "      <td>0.5</td>\n",
       "      <td>-10.0</td>\n",
       "    </tr>\n",
       "  </tbody>\n",
       "</table>\n",
       "</div>"
      ],
      "text/plain": [
       "             Temperature  Rainfall  Flyers  Price  Sales\n",
       "up_bound           137.7      1.69   103.0    0.5   60.0\n",
       "lower_bound        -16.3     -0.13   -23.0    0.5  -10.0"
      ]
     },
     "execution_count": 54,
     "metadata": {},
     "output_type": "execute_result"
    }
   ],
   "source": [
    "#Creating empty DataFrame to store upper and lower bound values:\n",
    "bounds = pd.DataFrame()\n",
    "#Creating list of original columns that I can iterate through:\n",
    "for i in cols:\n",
    "    #Iterating through the columns to get the upper and lower bound for each:\n",
    "    upper, lower = get_lower_and_upper_bounds(i, 3)\n",
    "    #Adding values to dataframe for each column of the original dataframe:\n",
    "    bounds['up_bound'] = upper\n",
    "    bounds['lower_bound'] = lower\n",
    "    \n",
    "\n",
    "#Transposing output dataframe to make accessing bound values easier:\n",
    "bounds = bounds.T \n",
    "bounds"
   ]
  },
  {
   "cell_type": "code",
   "execution_count": 60,
   "id": "09efb932",
   "metadata": {},
   "outputs": [
    {
     "name": "stdout",
     "output_type": "stream",
     "text": [
      "Temperature\n",
      "Upper Outliers:\n",
      "       Date       Day  Temperature  Rainfall  Flyers  Price  Sales\n",
      "41  2/11/17  Saturday        212.0      0.91      35    0.5     21\n",
      "-----------\n",
      "Lower Outliers:\n",
      "Empty DataFrame\n",
      "Columns: [Date, Day, Temperature, Rainfall, Flyers, Price, Sales]\n",
      "Index: []\n",
      "*************************************************\n",
      "\n",
      "\n",
      "Rainfall\n",
      "Upper Outliers:\n",
      "         Date      Day  Temperature  Rainfall  Flyers  Price  Sales\n",
      "0      1/1/17   Sunday         27.0      2.00      15    0.5     10\n",
      "338   12/5/17  Tuesday         22.0      1.82      11    0.5     10\n",
      "343  12/10/17   Sunday         31.3      1.82      15    0.5     11\n",
      "364  12/31/17   Sunday         15.1      2.50       9    0.5      7\n",
      "-----------\n",
      "Lower Outliers:\n",
      "Empty DataFrame\n",
      "Columns: [Date, Day, Temperature, Rainfall, Flyers, Price, Sales]\n",
      "Index: []\n",
      "*************************************************\n",
      "\n",
      "\n",
      "Flyers\n",
      "Upper Outliers:\n",
      "Empty DataFrame\n",
      "Columns: [Date, Day, Temperature, Rainfall, Flyers, Price, Sales]\n",
      "Index: []\n",
      "-----------\n",
      "Lower Outliers:\n",
      "         Date      Day  Temperature  Rainfall  Flyers  Price  Sales\n",
      "324  11/21/17  Tuesday         47.0      0.95     -38    0.5     20\n",
      "*************************************************\n",
      "\n",
      "\n",
      "Price\n",
      "Upper Outliers:\n",
      "Empty DataFrame\n",
      "Columns: [Date, Day, Temperature, Rainfall, Flyers, Price, Sales]\n",
      "Index: []\n",
      "-----------\n",
      "Lower Outliers:\n",
      "Empty DataFrame\n",
      "Columns: [Date, Day, Temperature, Rainfall, Flyers, Price, Sales]\n",
      "Index: []\n",
      "*************************************************\n",
      "\n",
      "\n",
      "Sales\n",
      "Upper Outliers:\n",
      "       Date       Day  Temperature  Rainfall  Flyers  Price  Sales\n",
      "181  7/1/17  Saturday        102.9      0.47      59    0.5    143\n",
      "182  7/2/17    Sunday         93.4      0.51      68    0.5    158\n",
      "183  7/3/17    Monday         81.5      0.54      68    0.5    235\n",
      "184  7/4/17   Tuesday         84.2      0.59      49    0.5    534\n",
      "-----------\n",
      "Lower Outliers:\n",
      "Empty DataFrame\n",
      "Columns: [Date, Day, Temperature, Rainfall, Flyers, Price, Sales]\n",
      "Index: []\n",
      "*************************************************\n",
      "\n",
      "\n"
     ]
    }
   ],
   "source": [
    "#Creating list of column in tables:\n",
    "cols = bounds.columns.to_list()\n",
    "\n",
    "#Creating empty dictionaries for the bounds and the days that exceed them:\n",
    "col_bounds = dict()\n",
    "upper_outliers = dict()\n",
    "lower_outliers = dict()\n",
    "\n",
    "#Iterating through the list of columns:\n",
    "for col in cols:\n",
    "    #Creating variable containing the upper bound of each column:\n",
    "    #bounds[col] = bounds[col][0]\n",
    "    #Adding days in which the bounds are exceeded to the 'outliers' dictionary:\n",
    "    upper_outliers[col] = df[df[col] > bounds[col][0]]\n",
    "    lower_outliers[col] = df[df[col]< bounds[col][1]]\n",
    "    \n",
    "\n",
    "#Iterating through list of columns again:    \n",
    "for col in upper_cols:\n",
    "    #Printing column name:\n",
    "    print(col)\n",
    "    #Printing all Upper outliers within their respective columns\n",
    "    print('Upper Outliers:')\n",
    "    print(upper_outliers[col])\n",
    "    #Adding a separator between bounds sections for each column:\n",
    "    print('-----------')\n",
    "    #Printig all lower outlier within their respective columns:\n",
    "    print('Lower Outliers:')\n",
    "    print(lower_outliers[col])\n",
    "    #Adding separator between columnar sections:\n",
    "    print(\"*************************************************\\n\\n\")"
   ]
  },
  {
   "cell_type": "markdown",
   "id": "9cafa59f",
   "metadata": {},
   "source": [
    "<b>Outliers Notes:</b>\n",
    "- Temperature:\n",
    "    - Upper: There is one anomalous day, with a temperature of 212 degrees. Literally hot enough to boil water. \n",
    "    - Lower: There do not appear to be any days that fall out of the lower bound for temperature.\n",
    "- Rainfall:\n",
    "    - Upper: There appear to be 4 days that fall out of the bounds of the higher bound for Rainfall. \n",
    "    - Lower: There to do not appear to be any days that fall out of the lower bound for Rainfall. \n",
    "- Flyers:\n",
    "    - Upper: There do not appear to be any days that fall out of the upper bound for Flyers.\n",
    "    - Lower: There appears to be one day that falls out of the lower bound for Flyers. Negative value for flyers certainly seems anonymous. \n",
    "- Price:\n",
    "    - Upper: There do not appear to be any days that fall out of the upper bound for Price.\n",
    "    - Lower: There do not appear to be any days that fall out of the lower bound for Price.\n",
    "- Sales:\n",
    "    - Upper: There appear to be 4 days that fall out of the bounds of the higher bound for Sales. However, this is 4th of July, and therefore likely not anomalous. \n",
    "    - Lower: There do not appear to be any days that fall out of the lower bound for Sales."
   ]
  },
  {
   "cell_type": "markdown",
   "id": "c33728ed",
   "metadata": {},
   "source": [
    "## Identify if any columns in lemonade.csv are normally distributed. For normally distributed columns:"
   ]
  },
  {
   "cell_type": "code",
   "execution_count": 89,
   "id": "212f9258",
   "metadata": {
    "scrolled": false
   },
   "outputs": [
    {
     "data": {
      "image/png": "[encoded data removed]",
      "text/plain": [
       "<Figure size 432x288 with 1 Axes>"
      ]
     },
     "metadata": {
      "needs_background": "light"
     },
     "output_type": "display_data"
    },
    {
     "data": {
      "image/png": "[encoded data removed]",
      "text/plain": [
       "<Figure size 432x288 with 1 Axes>"
      ]
     },
     "metadata": {
      "needs_background": "light"
     },
     "output_type": "display_data"
    },
    {
     "data": {
      "image/png": "[encoded data removed]",
      "text/plain": [
       "<Figure size 432x288 with 1 Axes>"
      ]
     },
     "metadata": {
      "needs_background": "light"
     },
     "output_type": "display_data"
    },
    {
     "data": {
      "image/png": "[encoded data removed]",
      "text/plain": [
       "<Figure size 432x288 with 1 Axes>"
      ]
     },
     "metadata": {
      "needs_background": "light"
     },
     "output_type": "display_data"
    },
    {
     "data": {
      "image/png": "[encoded data removed]",
      "text/plain": [
       "<Figure size 432x288 with 1 Axes>"
      ]
     },
     "metadata": {
      "needs_background": "light"
     },
     "output_type": "display_data"
    }
   ],
   "source": [
    "#Recreating list of columns in DataFrame:\n",
    "cols = df.columns.to_list()\n",
    "\n",
    "#Iterating through columns in list, excluding date and day:\n",
    "for col in cols[2:]:\n",
    "    #Creating \n",
    "    sns.histplot(df[col], bins = 20)\n",
    "    plt.title(col)\n",
    "    plt.show()"
   ]
  },
  {
   "cell_type": "markdown",
   "id": "2dee2c28",
   "metadata": {},
   "source": [
    "## Use a 2 sigma decision rule to isolate the outliers."
   ]
  },
  {
   "cell_type": "markdown",
   "id": "52dd9182",
   "metadata": {},
   "source": [
    "### a. Do these make sense?"
   ]
  },
  {
   "cell_type": "code",
   "execution_count": null,
   "id": "907af30c",
   "metadata": {},
   "outputs": [],
   "source": []
  },
  {
   "cell_type": "markdown",
   "id": "0bca55e7",
   "metadata": {},
   "source": [
    "### b. Should certain outliers be kept or removed?"
   ]
  }
 ],
 "metadata": {
  "kernelspec": {
   "display_name": "Python 3 (ipykernel)",
   "language": "python",
   "name": "python3"
  },
  "language_info": {
   "codemirror_mode": {
    "name": "ipython",
    "version": 3
   },
   "file_extension": ".py",
   "mimetype": "text/x-python",
   "name": "python",
   "nbconvert_exporter": "python",
   "pygments_lexer": "ipython3",
   "version": "3.9.7"
  }
 },
 "nbformat": 4,
 "nbformat_minor": 5
}
