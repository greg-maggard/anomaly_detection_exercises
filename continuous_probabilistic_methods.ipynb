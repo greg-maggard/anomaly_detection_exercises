{
 "cells": [
  {
   "cell_type": "code",
   "execution_count": 1,
   "id": "59dc772d",
   "metadata": {},
   "outputs": [],
   "source": [
    "import pandas as pd\n",
    "import numpy as np\n",
    "import matplotlib as plt\n",
    "import seaborn as sns"
   ]
  },
  {
   "cell_type": "code",
   "execution_count": 2,
   "id": "b2e617d6",
   "metadata": {},
   "outputs": [],
   "source": [
    "df = pd.read_csv('lemonade.csv')"
   ]
  },
  {
   "cell_type": "markdown",
   "id": "91d3368b",
   "metadata": {},
   "source": [
    "# Acquiring Data:"
   ]
  },
  {
   "cell_type": "code",
   "execution_count": 3,
   "id": "19beefc9",
   "metadata": {
    "scrolled": false
   },
   "outputs": [
    {
     "data": {
      "text/html": [
       "<div>\n",
       "<style scoped>\n",
       "    .dataframe tbody tr th:only-of-type {\n",
       "        vertical-align: middle;\n",
       "    }\n",
       "\n",
       "    .dataframe tbody tr th {\n",
       "        vertical-align: top;\n",
       "    }\n",
       "\n",
       "    .dataframe thead th {\n",
       "        text-align: right;\n",
       "    }\n",
       "</style>\n",
       "<table border=\"1\" class=\"dataframe\">\n",
       "  <thead>\n",
       "    <tr style=\"text-align: right;\">\n",
       "      <th></th>\n",
       "      <th>Date</th>\n",
       "      <th>Day</th>\n",
       "      <th>Temperature</th>\n",
       "      <th>Rainfall</th>\n",
       "      <th>Flyers</th>\n",
       "      <th>Price</th>\n",
       "      <th>Sales</th>\n",
       "    </tr>\n",
       "  </thead>\n",
       "  <tbody>\n",
       "    <tr>\n",
       "      <th>131</th>\n",
       "      <td>5/12/17</td>\n",
       "      <td>Friday</td>\n",
       "      <td>66.7</td>\n",
       "      <td>0.67</td>\n",
       "      <td>40</td>\n",
       "      <td>0.5</td>\n",
       "      <td>29</td>\n",
       "    </tr>\n",
       "    <tr>\n",
       "      <th>253</th>\n",
       "      <td>9/11/17</td>\n",
       "      <td>Monday</td>\n",
       "      <td>68.4</td>\n",
       "      <td>0.69</td>\n",
       "      <td>38</td>\n",
       "      <td>0.5</td>\n",
       "      <td>28</td>\n",
       "    </tr>\n",
       "    <tr>\n",
       "      <th>129</th>\n",
       "      <td>5/10/17</td>\n",
       "      <td>Wednesday</td>\n",
       "      <td>69.4</td>\n",
       "      <td>0.69</td>\n",
       "      <td>40</td>\n",
       "      <td>0.5</td>\n",
       "      <td>28</td>\n",
       "    </tr>\n",
       "  </tbody>\n",
       "</table>\n",
       "</div>"
      ],
      "text/plain": [
       "        Date        Day  Temperature  Rainfall  Flyers  Price  Sales\n",
       "131  5/12/17     Friday         66.7      0.67      40    0.5     29\n",
       "253  9/11/17     Monday         68.4      0.69      38    0.5     28\n",
       "129  5/10/17  Wednesday         69.4      0.69      40    0.5     28"
      ]
     },
     "execution_count": 3,
     "metadata": {},
     "output_type": "execute_result"
    }
   ],
   "source": [
    "df.sample(3)"
   ]
  },
  {
   "cell_type": "markdown",
   "id": "3d305d77",
   "metadata": {},
   "source": [
    "# Visualization:"
   ]
  },
  {
   "cell_type": "code",
   "execution_count": 4,
   "id": "dbc99be1",
   "metadata": {},
   "outputs": [
    {
     "data": {
      "text/plain": [
       "<AxesSubplot:xlabel='Date', ylabel='Sales'>"
      ]
     },
     "execution_count": 4,
     "metadata": {},
     "output_type": "execute_result"
    },
    {
     "data": {
      "image/png": "[encoded data removed]",
      "text/plain": [
       "<Figure size 432x288 with 1 Axes>"
      ]
     },
     "metadata": {
      "needs_background": "light"
     },
     "output_type": "display_data"
    }
   ],
   "source": [
    "#Plotting Sales by Date:\n",
    "sns.barplot(data=df, x = 'Date', y = 'Sales')"
   ]
  },
  {
   "cell_type": "markdown",
   "id": "fb792bde",
   "metadata": {},
   "source": [
    "It appears that there is clearly some kind of anomaly toward the middle of the year."
   ]
  },
  {
   "cell_type": "code",
   "execution_count": 5,
   "id": "b4a62427",
   "metadata": {},
   "outputs": [
    {
     "data": {
      "text/plain": [
       "<AxesSubplot:xlabel='Temperature', ylabel='Sales'>"
      ]
     },
     "execution_count": 5,
     "metadata": {},
     "output_type": "execute_result"
    },
    {
     "data": {
      "image/png": "[encoded data removed]",
      "text/plain": [
       "<Figure size 432x288 with 1 Axes>"
      ]
     },
     "metadata": {
      "needs_background": "light"
     },
     "output_type": "display_data"
    }
   ],
   "source": [
    "#Plotting Sales as a function of temperature:\n",
    "sns.scatterplot(data = df, x = 'Temperature', y = 'Sales')"
   ]
  },
  {
   "cell_type": "markdown",
   "id": "b1073cc1",
   "metadata": {},
   "source": [
    "There are definitely anomalies in terms of temperature, too. One day shows a temperature of 225 degrees?"
   ]
  },
  {
   "cell_type": "code",
   "execution_count": 6,
   "id": "da7025dd",
   "metadata": {},
   "outputs": [
    {
     "data": {
      "text/plain": [
       "<AxesSubplot:xlabel='Date', ylabel='Temperature'>"
      ]
     },
     "execution_count": 6,
     "metadata": {},
     "output_type": "execute_result"
    },
    {
     "data": {
      "image/png": "[encoded data removed]",
      "text/plain": [
       "<Figure size 432x288 with 1 Axes>"
      ]
     },
     "metadata": {
      "needs_background": "light"
     },
     "output_type": "display_data"
    }
   ],
   "source": [
    "#Plotting Temperature with Date:\n",
    "sns.barplot(data = df, x = 'Date', y = 'Temperature')"
   ]
  },
  {
   "cell_type": "markdown",
   "id": "73e06a29",
   "metadata": {},
   "source": [
    "The anomalous temperature reading can be seen here again, and it appears that it occurs sometime early in the year, when temperatures are lower on average. "
   ]
  },
  {
   "cell_type": "markdown",
   "id": "d4163b08",
   "metadata": {},
   "source": [
    "# Exercises:"
   ]
  },
  {
   "cell_type": "markdown",
   "id": "e207d87e",
   "metadata": {},
   "source": [
    "#### Define a function named get_lower_and_upper_bounds that has two arguments. The first argument is a pandas Series. The second argument is the multiplier, which should have a default argument of 1.5."
   ]
  },
  {
   "cell_type": "code",
   "execution_count": 12,
   "id": "e8f3502f",
   "metadata": {},
   "outputs": [],
   "source": [
    "def get_lower_and_upper_bounds(series, multiplier = 1.5):\n",
    "    # Defining values for quantiles:\n",
    "    qnt1 = df.quantile(.25)\n",
    "    qnt3 = df.quantile(.75)\n",
    "    #Calculating the IQR:\n",
    "    iqr = qnt3 - qnt1\n",
    "    #Defining the lower and upper bounds:\n",
    "    upper = qnt3 + (iqr * multiplier)\n",
    "    lower = qnt1 - (iqr * multiplier)\n",
    "    return upper, lower"
   ]
  },
  {
   "cell_type": "markdown",
   "id": "e4855637",
   "metadata": {},
   "source": [
    "## 1. Using lemonade.csv dataset and focusing on continuous variables:"
   ]
  },
  {
   "cell_type": "markdown",
   "id": "131d2eaf",
   "metadata": {},
   "source": [
    "#### a. Use the IQR Range Rule and the upper and lower bounds to identify the lower outliers of each column of lemonade.csv, using the multiplier of 1.5. Do these lower outliers make sense? Which outliers should be kept?"
   ]
  },
  {
   "cell_type": "code",
   "execution_count": 28,
   "id": "0652089f",
   "metadata": {},
   "outputs": [
    {
     "data": {
      "text/plain": [
       "['Date', 'Day', 'Temperature', 'Rainfall', 'Flyers', 'Price', 'Sales']"
      ]
     },
     "execution_count": 28,
     "metadata": {},
     "output_type": "execute_result"
    }
   ],
   "source": [
    "cols = df.columns.to_list()\n",
    "cols"
   ]
  },
  {
   "cell_type": "code",
   "execution_count": 22,
   "id": "adbeee63",
   "metadata": {},
   "outputs": [
    {
     "data": {
      "text/html": [
       "<div>\n",
       "<style scoped>\n",
       "    .dataframe tbody tr th:only-of-type {\n",
       "        vertical-align: middle;\n",
       "    }\n",
       "\n",
       "    .dataframe tbody tr th {\n",
       "        vertical-align: top;\n",
       "    }\n",
       "\n",
       "    .dataframe thead th {\n",
       "        text-align: right;\n",
       "    }\n",
       "</style>\n",
       "<table border=\"1\" class=\"dataframe\">\n",
       "  <thead>\n",
       "    <tr style=\"text-align: right;\">\n",
       "      <th></th>\n",
       "      <th>low_bound</th>\n",
       "    </tr>\n",
       "  </thead>\n",
       "  <tbody>\n",
       "    <tr>\n",
       "      <th>Temperature</th>\n",
       "      <td>16.70</td>\n",
       "    </tr>\n",
       "    <tr>\n",
       "      <th>Rainfall</th>\n",
       "      <td>0.26</td>\n",
       "    </tr>\n",
       "    <tr>\n",
       "      <th>Flyers</th>\n",
       "      <td>4.00</td>\n",
       "    </tr>\n",
       "    <tr>\n",
       "      <th>Price</th>\n",
       "      <td>0.50</td>\n",
       "    </tr>\n",
       "    <tr>\n",
       "      <th>Sales</th>\n",
       "      <td>5.00</td>\n",
       "    </tr>\n",
       "  </tbody>\n",
       "</table>\n",
       "</div>"
      ],
      "text/plain": [
       "             low_bound\n",
       "Temperature      16.70\n",
       "Rainfall          0.26\n",
       "Flyers            4.00\n",
       "Price             0.50\n",
       "Sales             5.00"
      ]
     },
     "execution_count": 22,
     "metadata": {},
     "output_type": "execute_result"
    }
   ],
   "source": [
    "#Creating empty DataFrame to store upper and lower bound values:\n",
    "lower_bounds = pd.DataFrame()\n",
    "#Creating list of original columns that I can iterate through:\n",
    "for i in cols:\n",
    "    #Iterating through the columns to get the upper and lower bound for each:\n",
    "    lo_bnd = get_lower_and_upper_bounds(i)\n",
    "    #Adding values to dataframe for each column of the original dataframe:\n",
    "    lower_bounds['low_bound'] = lo_bnd[1]\n",
    "\n",
    "#Transposing output dataframe to make accessing bound values easier:\n",
    "lower_bounds = lower_bounds\n",
    "lower_bounds"
   ]
  },
  {
   "cell_type": "code",
   "execution_count": 34,
   "id": "3930f781",
   "metadata": {},
   "outputs": [
    {
     "data": {
      "text/html": [
       "<div>\n",
       "<style scoped>\n",
       "    .dataframe tbody tr th:only-of-type {\n",
       "        vertical-align: middle;\n",
       "    }\n",
       "\n",
       "    .dataframe tbody tr th {\n",
       "        vertical-align: top;\n",
       "    }\n",
       "\n",
       "    .dataframe thead th {\n",
       "        text-align: right;\n",
       "    }\n",
       "</style>\n",
       "<table border=\"1\" class=\"dataframe\">\n",
       "  <thead>\n",
       "    <tr style=\"text-align: right;\">\n",
       "      <th></th>\n",
       "      <th>Temperature</th>\n",
       "      <th>Rainfall</th>\n",
       "      <th>Flyers</th>\n",
       "      <th>Price</th>\n",
       "      <th>Sales</th>\n",
       "    </tr>\n",
       "  </thead>\n",
       "  <tbody>\n",
       "    <tr>\n",
       "      <th>low_bound</th>\n",
       "      <td>16.7</td>\n",
       "      <td>0.26</td>\n",
       "      <td>4.0</td>\n",
       "      <td>0.5</td>\n",
       "      <td>5.0</td>\n",
       "    </tr>\n",
       "  </tbody>\n",
       "</table>\n",
       "</div>"
      ],
      "text/plain": [
       "           Temperature  Rainfall  Flyers  Price  Sales\n",
       "low_bound         16.7      0.26     4.0    0.5    5.0"
      ]
     },
     "execution_count": 34,
     "metadata": {},
     "output_type": "execute_result"
    }
   ],
   "source": [
    "#Creating empty DataFrame to store upper and lower bound values:\n",
    "lower_bounds = pd.DataFrame()\n",
    "#Creating list of original columns that I can iterate through:\n",
    "for i in cols:\n",
    "    #Iterating through the columns to get the upper and lower bound for each:\n",
    "    lo_bnd = get_lower_and_upper_bounds(i)\n",
    "    #Adding values to dataframe for each column of the original dataframe:\n",
    "    lower_bounds['low_bound'] = lo_bnd[1]\n",
    "\n",
    "#Transposing output dataframe to make accessing bound values easier:\n",
    "lower_bounds = lower_bounds.T \n",
    "lower_bounds"
   ]
  },
  {
   "cell_type": "code",
   "execution_count": 24,
   "id": "971398ea",
   "metadata": {},
   "outputs": [
    {
     "data": {
      "text/html": [
       "<div>\n",
       "<style scoped>\n",
       "    .dataframe tbody tr th:only-of-type {\n",
       "        vertical-align: middle;\n",
       "    }\n",
       "\n",
       "    .dataframe tbody tr th {\n",
       "        vertical-align: top;\n",
       "    }\n",
       "\n",
       "    .dataframe thead th {\n",
       "        text-align: right;\n",
       "    }\n",
       "</style>\n",
       "<table border=\"1\" class=\"dataframe\">\n",
       "  <thead>\n",
       "    <tr style=\"text-align: right;\">\n",
       "      <th></th>\n",
       "      <th>Date</th>\n",
       "      <th>Day</th>\n",
       "      <th>Temperature</th>\n",
       "      <th>Rainfall</th>\n",
       "      <th>Flyers</th>\n",
       "      <th>Price</th>\n",
       "      <th>Sales</th>\n",
       "    </tr>\n",
       "  </thead>\n",
       "  <tbody>\n",
       "    <tr>\n",
       "      <th>0</th>\n",
       "      <td>1/1/17</td>\n",
       "      <td>Sunday</td>\n",
       "      <td>27.0</td>\n",
       "      <td>2.00</td>\n",
       "      <td>15</td>\n",
       "      <td>0.5</td>\n",
       "      <td>10</td>\n",
       "    </tr>\n",
       "    <tr>\n",
       "      <th>1</th>\n",
       "      <td>1/2/17</td>\n",
       "      <td>Monday</td>\n",
       "      <td>28.9</td>\n",
       "      <td>1.33</td>\n",
       "      <td>15</td>\n",
       "      <td>0.5</td>\n",
       "      <td>13</td>\n",
       "    </tr>\n",
       "    <tr>\n",
       "      <th>2</th>\n",
       "      <td>1/3/17</td>\n",
       "      <td>Tuesday</td>\n",
       "      <td>34.5</td>\n",
       "      <td>1.33</td>\n",
       "      <td>27</td>\n",
       "      <td>0.5</td>\n",
       "      <td>15</td>\n",
       "    </tr>\n",
       "    <tr>\n",
       "      <th>3</th>\n",
       "      <td>1/4/17</td>\n",
       "      <td>Wednesday</td>\n",
       "      <td>44.1</td>\n",
       "      <td>1.05</td>\n",
       "      <td>28</td>\n",
       "      <td>0.5</td>\n",
       "      <td>17</td>\n",
       "    </tr>\n",
       "    <tr>\n",
       "      <th>4</th>\n",
       "      <td>1/5/17</td>\n",
       "      <td>Thursday</td>\n",
       "      <td>42.4</td>\n",
       "      <td>1.00</td>\n",
       "      <td>33</td>\n",
       "      <td>0.5</td>\n",
       "      <td>18</td>\n",
       "    </tr>\n",
       "    <tr>\n",
       "      <th>...</th>\n",
       "      <td>...</td>\n",
       "      <td>...</td>\n",
       "      <td>...</td>\n",
       "      <td>...</td>\n",
       "      <td>...</td>\n",
       "      <td>...</td>\n",
       "      <td>...</td>\n",
       "    </tr>\n",
       "    <tr>\n",
       "      <th>360</th>\n",
       "      <td>12/27/17</td>\n",
       "      <td>Wednesday</td>\n",
       "      <td>42.7</td>\n",
       "      <td>1.00</td>\n",
       "      <td>33</td>\n",
       "      <td>0.5</td>\n",
       "      <td>19</td>\n",
       "    </tr>\n",
       "    <tr>\n",
       "      <th>361</th>\n",
       "      <td>12/28/17</td>\n",
       "      <td>Thursday</td>\n",
       "      <td>37.8</td>\n",
       "      <td>1.25</td>\n",
       "      <td>32</td>\n",
       "      <td>0.5</td>\n",
       "      <td>16</td>\n",
       "    </tr>\n",
       "    <tr>\n",
       "      <th>362</th>\n",
       "      <td>12/29/17</td>\n",
       "      <td>Friday</td>\n",
       "      <td>39.5</td>\n",
       "      <td>1.25</td>\n",
       "      <td>17</td>\n",
       "      <td>0.5</td>\n",
       "      <td>15</td>\n",
       "    </tr>\n",
       "    <tr>\n",
       "      <th>363</th>\n",
       "      <td>12/30/17</td>\n",
       "      <td>Saturday</td>\n",
       "      <td>30.9</td>\n",
       "      <td>1.43</td>\n",
       "      <td>22</td>\n",
       "      <td>0.5</td>\n",
       "      <td>13</td>\n",
       "    </tr>\n",
       "    <tr>\n",
       "      <th>364</th>\n",
       "      <td>12/31/17</td>\n",
       "      <td>Sunday</td>\n",
       "      <td>15.1</td>\n",
       "      <td>2.50</td>\n",
       "      <td>9</td>\n",
       "      <td>0.5</td>\n",
       "      <td>7</td>\n",
       "    </tr>\n",
       "  </tbody>\n",
       "</table>\n",
       "<p>365 rows × 7 columns</p>\n",
       "</div>"
      ],
      "text/plain": [
       "         Date        Day  Temperature  Rainfall  Flyers  Price  Sales\n",
       "0      1/1/17     Sunday         27.0      2.00      15    0.5     10\n",
       "1      1/2/17     Monday         28.9      1.33      15    0.5     13\n",
       "2      1/3/17    Tuesday         34.5      1.33      27    0.5     15\n",
       "3      1/4/17  Wednesday         44.1      1.05      28    0.5     17\n",
       "4      1/5/17   Thursday         42.4      1.00      33    0.5     18\n",
       "..        ...        ...          ...       ...     ...    ...    ...\n",
       "360  12/27/17  Wednesday         42.7      1.00      33    0.5     19\n",
       "361  12/28/17   Thursday         37.8      1.25      32    0.5     16\n",
       "362  12/29/17     Friday         39.5      1.25      17    0.5     15\n",
       "363  12/30/17   Saturday         30.9      1.43      22    0.5     13\n",
       "364  12/31/17     Sunday         15.1      2.50       9    0.5      7\n",
       "\n",
       "[365 rows x 7 columns]"
      ]
     },
     "execution_count": 24,
     "metadata": {},
     "output_type": "execute_result"
    }
   ],
   "source": [
    "df"
   ]
  },
  {
   "cell_type": "code",
   "execution_count": 41,
   "id": "83b8cd2a",
   "metadata": {
    "scrolled": true
   },
   "outputs": [
    {
     "data": {
      "text/html": [
       "<div>\n",
       "<style scoped>\n",
       "    .dataframe tbody tr th:only-of-type {\n",
       "        vertical-align: middle;\n",
       "    }\n",
       "\n",
       "    .dataframe tbody tr th {\n",
       "        vertical-align: top;\n",
       "    }\n",
       "\n",
       "    .dataframe thead th {\n",
       "        text-align: right;\n",
       "    }\n",
       "</style>\n",
       "<table border=\"1\" class=\"dataframe\">\n",
       "  <thead>\n",
       "    <tr style=\"text-align: right;\">\n",
       "      <th></th>\n",
       "      <th>Date</th>\n",
       "      <th>Day</th>\n",
       "      <th>Temperature</th>\n",
       "      <th>Rainfall</th>\n",
       "      <th>Flyers</th>\n",
       "      <th>Price</th>\n",
       "      <th>Sales</th>\n",
       "    </tr>\n",
       "  </thead>\n",
       "  <tbody>\n",
       "    <tr>\n",
       "      <th>364</th>\n",
       "      <td>12/31/17</td>\n",
       "      <td>Sunday</td>\n",
       "      <td>15.1</td>\n",
       "      <td>2.5</td>\n",
       "      <td>9</td>\n",
       "      <td>0.5</td>\n",
       "      <td>7</td>\n",
       "    </tr>\n",
       "  </tbody>\n",
       "</table>\n",
       "</div>"
      ],
      "text/plain": [
       "         Date     Day  Temperature  Rainfall  Flyers  Price  Sales\n",
       "364  12/31/17  Sunday         15.1       2.5       9    0.5      7"
      ]
     },
     "execution_count": 41,
     "metadata": {},
     "output_type": "execute_result"
    }
   ],
   "source": [
    "temp_lower = lower_bounds.Temperature[0]\n",
    "df[df.Temperature < temp_lower]"
   ]
  },
  {
   "cell_type": "code",
   "execution_count": 39,
   "id": "6a74959d",
   "metadata": {},
   "outputs": [
    {
     "data": {
      "text/plain": [
       "numpy.float64"
      ]
     },
     "execution_count": 39,
     "metadata": {},
     "output_type": "execute_result"
    }
   ],
   "source": [
    "type(lower_bounds.Temperature[0])"
   ]
  },
  {
   "cell_type": "code",
   "execution_count": 35,
   "id": "313c8a2a",
   "metadata": {},
   "outputs": [
    {
     "data": {
      "text/html": [
       "<div>\n",
       "<style scoped>\n",
       "    .dataframe tbody tr th:only-of-type {\n",
       "        vertical-align: middle;\n",
       "    }\n",
       "\n",
       "    .dataframe tbody tr th {\n",
       "        vertical-align: top;\n",
       "    }\n",
       "\n",
       "    .dataframe thead th {\n",
       "        text-align: right;\n",
       "    }\n",
       "</style>\n",
       "<table border=\"1\" class=\"dataframe\">\n",
       "  <thead>\n",
       "    <tr style=\"text-align: right;\">\n",
       "      <th></th>\n",
       "      <th>Temperature</th>\n",
       "      <th>Rainfall</th>\n",
       "      <th>Flyers</th>\n",
       "      <th>Price</th>\n",
       "      <th>Sales</th>\n",
       "    </tr>\n",
       "  </thead>\n",
       "  <tbody>\n",
       "    <tr>\n",
       "      <th>low_bound</th>\n",
       "      <td>16.7</td>\n",
       "      <td>0.26</td>\n",
       "      <td>4.0</td>\n",
       "      <td>0.5</td>\n",
       "      <td>5.0</td>\n",
       "    </tr>\n",
       "  </tbody>\n",
       "</table>\n",
       "</div>"
      ],
      "text/plain": [
       "           Temperature  Rainfall  Flyers  Price  Sales\n",
       "low_bound         16.7      0.26     4.0    0.5    5.0"
      ]
     },
     "execution_count": 35,
     "metadata": {},
     "output_type": "execute_result"
    }
   ],
   "source": [
    "lower_bounds"
   ]
  }
 ],
 "metadata": {
  "kernelspec": {
   "display_name": "Python 3 (ipykernel)",
   "language": "python",
   "name": "python3"
  },
  "language_info": {
   "codemirror_mode": {
    "name": "ipython",
    "version": 3
   },
   "file_extension": ".py",
   "mimetype": "text/x-python",
   "name": "python",
   "nbconvert_exporter": "python",
   "pygments_lexer": "ipython3",
   "version": "3.9.7"
  }
 },
 "nbformat": 4,
 "nbformat_minor": 5
}
